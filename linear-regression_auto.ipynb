{
 "metadata": {
  "language_info": {
   "codemirror_mode": {
    "name": "ipython",
    "version": 3
   },
   "file_extension": ".py",
   "mimetype": "text/x-python",
   "name": "python",
   "nbconvert_exporter": "python",
   "pygments_lexer": "ipython3",
   "version": "3.8.5-final"
  },
  "orig_nbformat": 2,
  "kernelspec": {
   "name": "python3",
   "display_name": "Python 3.8.5 64-bit ('base': conda)",
   "metadata": {
    "interpreter": {
     "hash": "d504e65763db0712997c5abf4e36f31acc377fe14fcbb9335ac404214f57dc0f"
    }
   }
  }
 },
 "nbformat": 4,
 "nbformat_minor": 2,
 "cells": [
  {
   "cell_type": "code",
   "execution_count": 31,
   "metadata": {},
   "outputs": [
    {
     "output_type": "error",
     "ename": "SyntaxError",
     "evalue": "invalid syntax (pacepredictor.py, line 93)",
     "traceback": [
      "Traceback \u001b[0;36m(most recent call last)\u001b[0m:\n",
      "  File \u001b[1;32m\"/home/adam/miniconda3/lib/python3.8/site-packages/IPython/core/interactiveshell.py\"\u001b[0m, line \u001b[1;32m3437\u001b[0m, in \u001b[1;35mrun_code\u001b[0m\n    exec(code_obj, self.user_global_ns, self.user_ns)\n",
      "  File \u001b[1;32m\"<ipython-input-31-09b0ed34b234>\"\u001b[0m, line \u001b[1;32m7\u001b[0m, in \u001b[1;35m<module>\u001b[0m\n    importlib.reload(pp)\n",
      "  File \u001b[1;32m\"/home/adam/miniconda3/lib/python3.8/importlib/__init__.py\"\u001b[0m, line \u001b[1;32m169\u001b[0m, in \u001b[1;35mreload\u001b[0m\n    _bootstrap._exec(spec, module)\n",
      "  File \u001b[1;32m\"<frozen importlib._bootstrap>\"\u001b[0m, line \u001b[1;32m604\u001b[0m, in \u001b[1;35m_exec\u001b[0m\n",
      "  File \u001b[1;32m\"<frozen importlib._bootstrap_external>\"\u001b[0m, line \u001b[1;32m779\u001b[0m, in \u001b[1;35mexec_module\u001b[0m\n",
      "  File \u001b[1;32m\"<frozen importlib._bootstrap_external>\"\u001b[0m, line \u001b[1;32m916\u001b[0m, in \u001b[1;35mget_code\u001b[0m\n",
      "  File \u001b[1;32m\"<frozen importlib._bootstrap_external>\"\u001b[0m, line \u001b[1;32m846\u001b[0m, in \u001b[1;35msource_to_code\u001b[0m\n",
      "\u001b[0;36m  File \u001b[0;32m\"<frozen importlib._bootstrap>\"\u001b[0;36m, line \u001b[0;32m219\u001b[0;36m, in \u001b[0;35m_call_with_frames_removed\u001b[0;36m\u001b[0m\n",
      "\u001b[0;36m  File \u001b[0;32m\"/home/adam/Concept2-Pace-Predictor/pacepredictor.py\"\u001b[0;36m, line \u001b[0;32m93\u001b[0m\n\u001b[0;31m    if p_max_idx = \"Intercept\":\u001b[0m\n\u001b[0m                 ^\u001b[0m\n\u001b[0;31mSyntaxError\u001b[0m\u001b[0;31m:\u001b[0m invalid syntax\n"
     ]
    }
   ],
   "source": [
    "import pacepredictor as pp\n",
    "import importlib\n",
    "import plotly.express as px\n",
    "import pandas as pd\n",
    "import numpy as npa\n",
    "\n",
    "importlib.reload(pp)\n"
   ]
  },
  {
   "cell_type": "code",
   "execution_count": 30,
   "metadata": {},
   "outputs": [
    {
     "output_type": "display_data",
     "data": {
      "text/plain": "           mse       rmse         p_max intercept  \\\n0  4260.738149  32.838734  3.831986e-01      True   \n1  4260.778515  32.867532  6.531502e-08      True   \n\n                             parameters  \\\n0  [time_2000, time_10000, age, height]   \n1  [time_2000, time_10000, age, height]   \n\n                                        coefficients  \\\n0  [244.51791945570434, 0.8804801615451783, 0.264...   \n1  [238.05267100931667, 0.881628629068782, 0.2648...   \n\n                                              p_vals  \n0  [1.0104109731184089e-20, 2.6003852178674537e-2...  \n1  [2.5877317002180042e-21, 2.7444053268683254e-2...  ",
      "text/html": "<div>\n<style scoped>\n    .dataframe tbody tr th:only-of-type {\n        vertical-align: middle;\n    }\n\n    .dataframe tbody tr th {\n        vertical-align: top;\n    }\n\n    .dataframe thead th {\n        text-align: right;\n    }\n</style>\n<table border=\"1\" class=\"dataframe\">\n  <thead>\n    <tr style=\"text-align: right;\">\n      <th></th>\n      <th>mse</th>\n      <th>rmse</th>\n      <th>p_max</th>\n      <th>intercept</th>\n      <th>parameters</th>\n      <th>coefficients</th>\n      <th>p_vals</th>\n    </tr>\n  </thead>\n  <tbody>\n    <tr>\n      <th>0</th>\n      <td>4260.738149</td>\n      <td>32.838734</td>\n      <td>3.831986e-01</td>\n      <td>True</td>\n      <td>[time_2000, time_10000, age, height]</td>\n      <td>[244.51791945570434, 0.8804801615451783, 0.264...</td>\n      <td>[1.0104109731184089e-20, 2.6003852178674537e-2...</td>\n    </tr>\n    <tr>\n      <th>1</th>\n      <td>4260.778515</td>\n      <td>32.867532</td>\n      <td>6.531502e-08</td>\n      <td>True</td>\n      <td>[time_2000, time_10000, age, height]</td>\n      <td>[238.05267100931667, 0.881628629068782, 0.2648...</td>\n      <td>[2.5877317002180042e-21, 2.7444053268683254e-2...</td>\n    </tr>\n  </tbody>\n</table>\n</div>"
     },
     "metadata": {}
    }
   ],
   "source": [
    "file_path = \"./\"\n",
    "file_5_2_10 = \"5_2_10.csv\"\n",
    "\n",
    "pp_5_2_10 = pp.Predictor(f\"{file_path}{file_5_2_10}\", random_state=42)\n",
    "\n",
    "pp_5_2_10.df = pp_5_2_10.df.drop([\"adaptive_rowing_category\",\"weight_class\", \"profile_id\"], axis=1)\n",
    "\n",
    "pp_5_2_10.split_data()\n",
    "\n",
    "col_y = \"time_5000\"\n",
    "cols_x = pp.get_cols_x(pp_5_2_10.df, col_y)\n",
    "\n",
    "pp_5_2_10.add_model(\"Linear\", col_y, cols_x, 1, \"First order model, using all vars\", alpha=0.005)\n",
    "pp_5_2_10.models[\"Linear\"].iterate()\n",
    "\n",
    "display(pp_5_2_10.models[\"Linear\"].summary)\n"
   ]
  },
  {
   "cell_type": "code",
   "execution_count": null,
   "metadata": {},
   "outputs": [],
   "source": []
  }
 ]
}