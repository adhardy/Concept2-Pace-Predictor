{
 "metadata": {
  "language_info": {
   "codemirror_mode": {
    "name": "ipython",
    "version": 3
   },
   "file_extension": ".py",
   "mimetype": "text/x-python",
   "name": "python",
   "nbconvert_exporter": "python",
   "pygments_lexer": "ipython3",
   "version": "3.8.5-final"
  },
  "orig_nbformat": 2,
  "kernelspec": {
   "name": "python3",
   "display_name": "Python 3.8.5 64-bit ('base': conda)",
   "metadata": {
    "interpreter": {
     "hash": "d504e65763db0712997c5abf4e36f31acc377fe14fcbb9335ac404214f57dc0f"
    }
   }
  }
 },
 "nbformat": 4,
 "nbformat_minor": 2,
 "cells": [
  {
   "cell_type": "code",
   "execution_count": 19,
   "metadata": {},
   "outputs": [],
   "source": [
    "import pacepredictor as pp\n",
    "import importlib\n",
    "import plotly.express as px\n",
    "import pandas as pd\n",
    "import numpy as npa\n",
    "\n",
    "importlib.reload(pp)\n",
    "\n",
    "file_path = \"./\"\n",
    "file_5_2_10 = \"5_2_10.csv\"\n",
    "\n",
    "pp_5_2_10 = pp.Predictor(f\"{file_path}{file_5_2_10}\", random_state=42, dummies=False)\n",
    "\n",
    "pp_5_2_10.df = pp_5_2_10.df.drop([\"adaptive_rowing_category\",\"weight_class\", \"profile_id\"], axis=1)\n",
    "\n",
    "pp_5_2_10.split_data()"
   ]
  },
  {
   "cell_type": "code",
   "execution_count": 20,
   "metadata": {},
   "outputs": [
    {
     "output_type": "stream",
     "name": "stdout",
     "text": [
      "                            OLS Regression Results                            \n==============================================================================\nDep. Variable:              time_2000   R-squared:                       0.768\nModel:                            OLS   Adj. R-squared:                  0.768\nMethod:                 Least Squares   F-statistic:                     3297.\nDate:                Mon, 29 Mar 2021   Prob (F-statistic):               0.00\nTime:                        14:41:17   Log-Likelihood:                -23828.\nNo. Observations:                4993   AIC:                         4.767e+04\nDf Residuals:                    4987   BIC:                         4.771e+04\nDf Model:                           5                                         \nCovariance Type:            nonrobust                                         \n==============================================================================\n                 coef    std err          t      P>|t|      [0.025      0.975]\n------------------------------------------------------------------------------\nIntercept     97.6799     12.495      7.817      0.000      73.183     122.177\ntime_5000      0.2011      0.006     32.755      0.000       0.189       0.213\ntime_10000     0.0660      0.003     23.173      0.000       0.060       0.072\nage            0.5016      0.036     14.041      0.000       0.432       0.572\nheight        -0.4295      0.062     -6.959      0.000      -0.551      -0.309\nweight         0.0843      0.030      2.773      0.006       0.025       0.144\n==============================================================================\nOmnibus:                     6511.041   Durbin-Watson:                   1.976\nProb(Omnibus):                  0.000   Jarque-Bera (JB):          4995179.093\nSkew:                           6.682   Prob(JB):                         0.00\nKurtosis:                     157.376   Cond. No.                     8.97e+04\n==============================================================================\n\nNotes:\n[1] Standard Errors assume that the covariance matrix of the errors is correctly specified.\n[2] The condition number is large, 8.97e+04. This might indicate that there are\nstrong multicollinearity or other numerical problems.\n"
     ]
    }
   ],
   "source": [
    "col_y = \"time_2000\"\n",
    "cols_x = pp.get_cols_x(pp_5_2_10.df, col_y)\n",
    "\n",
    "\n",
    "pp_5_2_10.add_model(\"Linear\", co_y, cols_x, 1, \"First order model, using all vars\")\n",
    "pp_5_2_10.models[\"Linear\"].iterate()\n",
    "\n",
    "pp_5_2_10.models[\"Linear\"].iterations[0].fit()\n",
    "\n",
    "\n"
   ]
  },
  {
   "cell_type": "code",
   "execution_count": 21,
   "metadata": {},
   "outputs": [
    {
     "output_type": "execute_result",
     "data": {
      "text/plain": [
       "      time_5000  time_2000  time_10000  age  height  weight  time_2000_pred  \\\n",
       "0        1154.9      436.1      2358.0   71   180.3    68.9      449.465923   \n",
       "1        1181.2      440.5      2653.7   51   188.0    79.8      461.844885   \n",
       "2        1511.2      573.7      3218.5   46   165.1    64.9      571.541194   \n",
       "3        1190.7      448.3      2492.0   48   182.9   101.2      455.574859   \n",
       "4        1079.1      411.8      2224.0   43   190.5   102.1      409.754639   \n",
       "...         ...        ...         ...  ...     ...     ...             ...   \n",
       "1065     1258.8      476.3      2914.1   61   175.3    83.0      505.370768   \n",
       "1066     1177.1      449.6      2398.0   42   177.8    79.4      443.982286   \n",
       "1067     1108.6      434.9      2293.7   43   190.5    86.2      418.945801   \n",
       "1068     1136.5      429.7      2388.0   46   190.5    88.0      432.434415   \n",
       "1069     1124.3      428.9      2306.7   37   185.4    73.0      421.029566   \n",
       "\n",
       "      squared_error      error  \n",
       "0        178.647889  13.365923  \n",
       "1        455.604127  21.344885  \n",
       "2          4.660443   2.158806  \n",
       "3         52.923577   7.274859  \n",
       "4          4.183500   2.045361  \n",
       "...             ...        ...  \n",
       "1065     845.109572  29.070768  \n",
       "1066      31.558705   5.617714  \n",
       "1067     254.536452  15.954199  \n",
       "1068       7.477024   2.734415  \n",
       "1069      61.943731   7.870434  \n",
       "\n",
       "[1070 rows x 9 columns]"
      ],
      "text/html": "<div>\n<style scoped>\n    .dataframe tbody tr th:only-of-type {\n        vertical-align: middle;\n    }\n\n    .dataframe tbody tr th {\n        vertical-align: top;\n    }\n\n    .dataframe thead th {\n        text-align: right;\n    }\n</style>\n<table border=\"1\" class=\"dataframe\">\n  <thead>\n    <tr style=\"text-align: right;\">\n      <th></th>\n      <th>time_5000</th>\n      <th>time_2000</th>\n      <th>time_10000</th>\n      <th>age</th>\n      <th>height</th>\n      <th>weight</th>\n      <th>time_2000_pred</th>\n      <th>squared_error</th>\n      <th>error</th>\n    </tr>\n  </thead>\n  <tbody>\n    <tr>\n      <th>0</th>\n      <td>1154.9</td>\n      <td>436.1</td>\n      <td>2358.0</td>\n      <td>71</td>\n      <td>180.3</td>\n      <td>68.9</td>\n      <td>449.465923</td>\n      <td>178.647889</td>\n      <td>13.365923</td>\n    </tr>\n    <tr>\n      <th>1</th>\n      <td>1181.2</td>\n      <td>440.5</td>\n      <td>2653.7</td>\n      <td>51</td>\n      <td>188.0</td>\n      <td>79.8</td>\n      <td>461.844885</td>\n      <td>455.604127</td>\n      <td>21.344885</td>\n    </tr>\n    <tr>\n      <th>2</th>\n      <td>1511.2</td>\n      <td>573.7</td>\n      <td>3218.5</td>\n      <td>46</td>\n      <td>165.1</td>\n      <td>64.9</td>\n      <td>571.541194</td>\n      <td>4.660443</td>\n      <td>2.158806</td>\n    </tr>\n    <tr>\n      <th>3</th>\n      <td>1190.7</td>\n      <td>448.3</td>\n      <td>2492.0</td>\n      <td>48</td>\n      <td>182.9</td>\n      <td>101.2</td>\n      <td>455.574859</td>\n      <td>52.923577</td>\n      <td>7.274859</td>\n    </tr>\n    <tr>\n      <th>4</th>\n      <td>1079.1</td>\n      <td>411.8</td>\n      <td>2224.0</td>\n      <td>43</td>\n      <td>190.5</td>\n      <td>102.1</td>\n      <td>409.754639</td>\n      <td>4.183500</td>\n      <td>2.045361</td>\n    </tr>\n    <tr>\n      <th>...</th>\n      <td>...</td>\n      <td>...</td>\n      <td>...</td>\n      <td>...</td>\n      <td>...</td>\n      <td>...</td>\n      <td>...</td>\n      <td>...</td>\n      <td>...</td>\n    </tr>\n    <tr>\n      <th>1065</th>\n      <td>1258.8</td>\n      <td>476.3</td>\n      <td>2914.1</td>\n      <td>61</td>\n      <td>175.3</td>\n      <td>83.0</td>\n      <td>505.370768</td>\n      <td>845.109572</td>\n      <td>29.070768</td>\n    </tr>\n    <tr>\n      <th>1066</th>\n      <td>1177.1</td>\n      <td>449.6</td>\n      <td>2398.0</td>\n      <td>42</td>\n      <td>177.8</td>\n      <td>79.4</td>\n      <td>443.982286</td>\n      <td>31.558705</td>\n      <td>5.617714</td>\n    </tr>\n    <tr>\n      <th>1067</th>\n      <td>1108.6</td>\n      <td>434.9</td>\n      <td>2293.7</td>\n      <td>43</td>\n      <td>190.5</td>\n      <td>86.2</td>\n      <td>418.945801</td>\n      <td>254.536452</td>\n      <td>15.954199</td>\n    </tr>\n    <tr>\n      <th>1068</th>\n      <td>1136.5</td>\n      <td>429.7</td>\n      <td>2388.0</td>\n      <td>46</td>\n      <td>190.5</td>\n      <td>88.0</td>\n      <td>432.434415</td>\n      <td>7.477024</td>\n      <td>2.734415</td>\n    </tr>\n    <tr>\n      <th>1069</th>\n      <td>1124.3</td>\n      <td>428.9</td>\n      <td>2306.7</td>\n      <td>37</td>\n      <td>185.4</td>\n      <td>73.0</td>\n      <td>421.029566</td>\n      <td>61.943731</td>\n      <td>7.870434</td>\n    </tr>\n  </tbody>\n</table>\n<p>1070 rows × 9 columns</p>\n</div>"
     },
     "metadata": {},
     "execution_count": 21
    }
   ],
   "source": [
    "pp_5_2_10.models[\"Linear\"].iterations[0].predict()\n",
    "pp_5_2_10.models[\"Linear\"].iterations[0].df_test"
   ]
  },
  {
   "cell_type": "code",
   "execution_count": 22,
   "metadata": {},
   "outputs": [
    {
     "output_type": "stream",
     "name": "stdout",
     "text": [
      "Mean squared error: 773.4\nMean error: 15.7\n"
     ]
    }
   ],
   "source": [
    "pp_5_2_10.models[\"Linear\"].iterations[0].stats()"
   ]
  },
  {
   "cell_type": "code",
   "execution_count": null,
   "metadata": {},
   "outputs": [],
   "source": []
  }
 ]
}