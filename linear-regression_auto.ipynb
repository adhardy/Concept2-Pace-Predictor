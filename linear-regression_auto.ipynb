{
 "metadata": {
  "language_info": {
   "codemirror_mode": {
    "name": "ipython",
    "version": 3
   },
   "file_extension": ".py",
   "mimetype": "text/x-python",
   "name": "python",
   "nbconvert_exporter": "python",
   "pygments_lexer": "ipython3",
   "version": "3.8.5-final"
  },
  "orig_nbformat": 2,
  "kernelspec": {
   "name": "python3",
   "display_name": "Python 3.8.5 64-bit ('base': conda)",
   "metadata": {
    "interpreter": {
     "hash": "d504e65763db0712997c5abf4e36f31acc377fe14fcbb9335ac404214f57dc0f"
    }
   }
  }
 },
 "nbformat": 4,
 "nbformat_minor": 2,
 "cells": [
  {
   "cell_type": "code",
   "execution_count": 17,
   "metadata": {},
   "outputs": [
    {
     "output_type": "execute_result",
     "data": {
      "text/plain": [
       "<module 'pacepredictor' from '/home/adam/Concept2-Pace-Predictor/pacepredictor.py'>"
      ]
     },
     "metadata": {},
     "execution_count": 17
    }
   ],
   "source": [
    "import pacepredictor as pp\n",
    "import importlib\n",
    "import plotly.express as px\n",
    "import pandas as pd\n",
    "import numpy as npa\n",
    "\n",
    "importlib.reload(pp)\n"
   ]
  },
  {
   "cell_type": "code",
   "execution_count": 18,
   "metadata": {},
   "outputs": [
    {
     "output_type": "display_data",
     "data": {
      "text/plain": "            mse         rmse                                cols_x  \\\n0  2.699385e+06  1642.980556  [time_5000, time_10000, age, height]   \n1  3.372657e+06  1836.479507  [time_5000, time_10000, age, height]   \n\n                                        coefficients  \\\n0  [97.67987755139197, 0.20108105355923303, 0.065...   \n1  [87.94117911630701, 0.20162314483299784, 0.066...   \n\n                                              p_vals  \n0  [6.541600246900434e-15, 2.600385217866122e-213...  \n1  [2.7023316953788525e-13, 2.744405326865826e-21...  ",
      "text/html": "<div>\n<style scoped>\n    .dataframe tbody tr th:only-of-type {\n        vertical-align: middle;\n    }\n\n    .dataframe tbody tr th {\n        vertical-align: top;\n    }\n\n    .dataframe thead th {\n        text-align: right;\n    }\n</style>\n<table border=\"1\" class=\"dataframe\">\n  <thead>\n    <tr style=\"text-align: right;\">\n      <th></th>\n      <th>mse</th>\n      <th>rmse</th>\n      <th>cols_x</th>\n      <th>coefficients</th>\n      <th>p_vals</th>\n    </tr>\n  </thead>\n  <tbody>\n    <tr>\n      <th>0</th>\n      <td>2.699385e+06</td>\n      <td>1642.980556</td>\n      <td>[time_5000, time_10000, age, height]</td>\n      <td>[97.67987755139197, 0.20108105355923303, 0.065...</td>\n      <td>[6.541600246900434e-15, 2.600385217866122e-213...</td>\n    </tr>\n    <tr>\n      <th>1</th>\n      <td>3.372657e+06</td>\n      <td>1836.479507</td>\n      <td>[time_5000, time_10000, age, height]</td>\n      <td>[87.94117911630701, 0.20162314483299784, 0.066...</td>\n      <td>[2.7023316953788525e-13, 2.744405326865826e-21...</td>\n    </tr>\n  </tbody>\n</table>\n</div>"
     },
     "metadata": {}
    }
   ],
   "source": [
    "file_path = \"./\"\n",
    "file_5_2_10 = \"5_2_10.csv\"\n",
    "\n",
    "pp_5_2_10 = pp.Predictor(f\"{file_path}{file_5_2_10}\", random_state=42)\n",
    "\n",
    "pp_5_2_10.df = pp_5_2_10.df.drop([\"adaptive_rowing_category\",\"weight_class\", \"profile_id\"], axis=1)\n",
    "\n",
    "pp_5_2_10.split_data()\n",
    "\n",
    "col_y = \"time_2000\"\n",
    "cols_x = pp.get_cols_x(pp_5_2_10.df, col_y)\n",
    "\n",
    "pp_5_2_10.add_model(\"Linear\", col_y, cols_x, 1, \"First order model, using all vars\", alpha=0.005)\n",
    "pp_5_2_10.models[\"Linear\"].iterate()\n",
    "\n",
    "display(pp_5_2_10.models[\"Linear\"].summary)\n"
   ]
  },
  {
   "cell_type": "code",
   "execution_count": null,
   "metadata": {},
   "outputs": [],
   "source": []
  }
 ]
}