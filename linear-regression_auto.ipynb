{
 "metadata": {
  "language_info": {
   "codemirror_mode": {
    "name": "ipython",
    "version": 3
   },
   "file_extension": ".py",
   "mimetype": "text/x-python",
   "name": "python",
   "nbconvert_exporter": "python",
   "pygments_lexer": "ipython3",
   "version": "3.8.5-final"
  },
  "orig_nbformat": 2,
  "kernelspec": {
   "name": "python3",
   "display_name": "Python 3.8.5 64-bit ('base': conda)",
   "metadata": {
    "interpreter": {
     "hash": "d504e65763db0712997c5abf4e36f31acc377fe14fcbb9335ac404214f57dc0f"
    }
   }
  }
 },
 "nbformat": 4,
 "nbformat_minor": 2,
 "cells": [
  {
   "cell_type": "code",
   "execution_count": 3,
   "metadata": {},
   "outputs": [],
   "source": [
    "import pacepredictor as pp\n",
    "import importlib\n",
    "import plotly.express as px\n",
    "import pandas as pd\n",
    "import numpy as npa\n",
    "\n",
    "importlib.reload(pp)\n",
    "\n",
    "file_path = \"./\"\n",
    "file_5_2_10 = \"5_2_10.csv\"\n",
    "\n",
    "pp_5_2_10 = pp.Predictor(f\"{file_path}{file_5_2_10}\", random_state=42, dummies=False)\n",
    "\n",
    "pp_5_2_10.df = pp_5_2_10.df.drop([\"adaptive_rowing_category\",\"weight_class\", \"profile_id\"], axis=1)\n",
    "\n",
    "pp_5_2_10.split_data()"
   ]
  },
  {
   "cell_type": "code",
   "execution_count": 4,
   "metadata": {},
   "outputs": [
    {
     "output_type": "stream",
     "name": "stdout",
     "text": [
      "                            OLS Regression Results                            \n==============================================================================\nDep. Variable:              time_2000   R-squared:                       0.768\nModel:                            OLS   Adj. R-squared:                  0.768\nMethod:                 Least Squares   F-statistic:                     3297.\nDate:                Mon, 29 Mar 2021   Prob (F-statistic):               0.00\nTime:                        14:44:32   Log-Likelihood:                -23828.\nNo. Observations:                4993   AIC:                         4.767e+04\nDf Residuals:                    4987   BIC:                         4.771e+04\nDf Model:                           5                                         \nCovariance Type:            nonrobust                                         \n==============================================================================\n                 coef    std err          t      P>|t|      [0.025      0.975]\n------------------------------------------------------------------------------\nIntercept     97.6799     12.495      7.817      0.000      73.183     122.177\ntime_5000      0.2011      0.006     32.755      0.000       0.189       0.213\ntime_10000     0.0660      0.003     23.173      0.000       0.060       0.072\nage            0.5016      0.036     14.041      0.000       0.432       0.572\nheight        -0.4295      0.062     -6.959      0.000      -0.551      -0.309\nweight         0.0843      0.030      2.773      0.006       0.025       0.144\n==============================================================================\nOmnibus:                     6511.041   Durbin-Watson:                   1.976\nProb(Omnibus):                  0.000   Jarque-Bera (JB):          4995179.093\nSkew:                           6.682   Prob(JB):                         0.00\nKurtosis:                     157.376   Cond. No.                     8.97e+04\n==============================================================================\n\nNotes:\n[1] Standard Errors assume that the covariance matrix of the errors is correctly specified.\n[2] The condition number is large, 8.97e+04. This might indicate that there are\nstrong multicollinearity or other numerical problems.\nMean squared error: 773.4\nMean error: 15.7\n"
     ]
    }
   ],
   "source": [
    "col_y = \"time_2000\"\n",
    "cols_x = pp.get_cols_x(pp_5_2_10.df, col_y)\n",
    "\n",
    "pp_5_2_10.add_model(\"Linear\", col_y, cols_x, 1, \"First order model, using all vars\")\n",
    "pp_5_2_10.models[\"Linear\"].iterate()\n",
    "\n",
    "\n"
   ]
  },
  {
   "cell_type": "code",
   "execution_count": 8,
   "metadata": {},
   "outputs": [
    {
     "output_type": "execute_result",
     "data": {
      "text/plain": [
       "Intercept      6.541600e-15\n",
       "time_5000     2.600385e-213\n",
       "time_10000    6.551625e-113\n",
       "age            5.953844e-44\n",
       "height         3.860685e-12\n",
       "weight         5.567005e-03\n",
       "dtype: float64"
      ]
     },
     "metadata": {},
     "execution_count": 8
    }
   ],
   "source": [
    "pp_5_2_10.models[\"Linear\"].iterations[0].model.pvalues"
   ]
  },
  {
   "cell_type": "code",
   "execution_count": null,
   "metadata": {},
   "outputs": [],
   "source": []
  }
 ]
}