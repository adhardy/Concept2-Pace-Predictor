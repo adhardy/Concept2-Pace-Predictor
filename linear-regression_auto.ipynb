{
 "metadata": {
  "language_info": {
   "codemirror_mode": {
    "name": "ipython",
    "version": 3
   },
   "file_extension": ".py",
   "mimetype": "text/x-python",
   "name": "python",
   "nbconvert_exporter": "python",
   "pygments_lexer": "ipython3",
   "version": "3.8.5-final"
  },
  "orig_nbformat": 2,
  "kernelspec": {
   "name": "python3",
   "display_name": "Python 3.8.5 64-bit ('base': conda)",
   "metadata": {
    "interpreter": {
     "hash": "d504e65763db0712997c5abf4e36f31acc377fe14fcbb9335ac404214f57dc0f"
    }
   }
  }
 },
 "nbformat": 4,
 "nbformat_minor": 2,
 "cells": [
  {
   "cell_type": "code",
   "execution_count": 35,
   "metadata": {},
   "outputs": [],
   "source": [
    "import pacepredictor as pp\n",
    "import importlib\n",
    "import plotly.express as px\n",
    "import pandas as pd\n",
    "import numpy as npa\n",
    "\n",
    "importlib.reload(pp)\n",
    "\n",
    "file_path = \"./\"\n",
    "file_5_2_10 = \"5_2_10.csv\"\n",
    "\n",
    "pp_5_2_10 = pp.Predictor(f\"{file_path}{file_5_2_10}\", random_state=42, dummies=False)\n",
    "\n",
    "pp_5_2_10.df = pp_5_2_10.df.drop([\"adaptive_rowing_category\",\"weight_class\"], axis=1)\n",
    "\n",
    "pp_5_2_10.split_data()"
   ]
  },
  {
   "cell_type": "code",
   "execution_count": 36,
   "metadata": {},
   "outputs": [
    {
     "output_type": "stream",
     "name": "stdout",
     "text": [
      "                            OLS Regression Results                            \n==============================================================================\nDep. Variable:              time_2000   R-squared:                       0.731\nModel:                            OLS   Adj. R-squared:                  0.731\nMethod:                 Least Squares   F-statistic:                 1.354e+04\nDate:                Mon, 29 Mar 2021   Prob (F-statistic):               0.00\nTime:                        11:52:05   Log-Likelihood:                -24197.\nNo. Observations:                4993   AIC:                         4.840e+04\nDf Residuals:                    4991   BIC:                         4.841e+04\nDf Model:                           1                                         \nCovariance Type:            nonrobust                                         \n==============================================================================\n                 coef    std err          t      P>|t|      [0.025      0.975]\n------------------------------------------------------------------------------\nIntercept     40.6528      3.742     10.865      0.000      33.317      47.988\ntime_5000      0.3470      0.003    116.368      0.000       0.341       0.353\n==============================================================================\nOmnibus:                     5123.855   Durbin-Watson:                   1.984\nProb(Omnibus):                  0.000   Jarque-Bera (JB):          2953134.554\nSkew:                           4.245   Prob(JB):                         0.00\nKurtosis:                     121.840   Cond. No.                     1.08e+04\n==============================================================================\n\nNotes:\n[1] Standard Errors assume that the covariance matrix of the errors is correctly specified.\n[2] The condition number is large, 1.08e+04. This might indicate that there are\nstrong multicollinearity or other numerical problems.\n"
     ]
    }
   ],
   "source": [
    "ycol = \"time_2000\"\n",
    "xcols = pp.get_xcols(pp_5_2_10.df, ycol)\n",
    "\n",
    "pp_5_2_10.add_model(\"Linear\", ycol, xcols, 1, \"First order model, using all vars\")\n",
    "pp_5_2_10.models[\"Linear\"].fit()\n"
   ]
  },
  {
   "cell_type": "code",
   "execution_count": null,
   "metadata": {},
   "outputs": [],
   "source": []
  }
 ]
}