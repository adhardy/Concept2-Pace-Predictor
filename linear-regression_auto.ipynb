{
 "metadata": {
  "language_info": {
   "codemirror_mode": {
    "name": "ipython",
    "version": 3
   },
   "file_extension": ".py",
   "mimetype": "text/x-python",
   "name": "python",
   "nbconvert_exporter": "python",
   "pygments_lexer": "ipython3",
   "version": "3.8.5-final"
  },
  "orig_nbformat": 2,
  "kernelspec": {
   "name": "python3",
   "display_name": "Python 3.8.5 64-bit ('base': conda)",
   "metadata": {
    "interpreter": {
     "hash": "d504e65763db0712997c5abf4e36f31acc377fe14fcbb9335ac404214f57dc0f"
    }
   }
  }
 },
 "nbformat": 4,
 "nbformat_minor": 2,
 "cells": [
  {
   "cell_type": "code",
   "execution_count": 13,
   "metadata": {},
   "outputs": [
    {
     "output_type": "execute_result",
     "data": {
      "text/plain": [
       "<module 'pacepredictor' from '/home/adam/Concept2-Pace-Predictor/pacepredictor.py'>"
      ]
     },
     "metadata": {},
     "execution_count": 13
    }
   ],
   "source": [
    "import pacepredictor as pp\n",
    "import importlib\n",
    "import plotly.express as px\n",
    "import pandas as pd\n",
    "import numpy as npa\n",
    "\n",
    "importlib.reload(pp)\n"
   ]
  },
  {
   "cell_type": "code",
   "execution_count": 14,
   "metadata": {},
   "outputs": [
    {
     "output_type": "display_data",
     "data": {
      "text/plain": "          mse       rmse p_max_param         p_max intercept  \\\n0  773.407425  15.708199      weight  5.567005e-03      True   \n1  773.631602  15.651435      height  1.195539e-10      True   \n\n                                     parameters  \\\n0  [time_5000, time_10000, age, height, weight]   \n1          [time_5000, time_10000, age, height]   \n\n                                        coefficients  \\\n0  [97.67987755139197, 0.20108105355923303, 0.065...   \n1  [87.94117911630701, 0.20162314483299784, 0.066...   \n\n                                              p_vals  \n0  [6.541600246900434e-15, 2.600385217866122e-213...  \n1  [2.7023316953788525e-13, 2.744405326865826e-21...  ",
      "text/html": "<div>\n<style scoped>\n    .dataframe tbody tr th:only-of-type {\n        vertical-align: middle;\n    }\n\n    .dataframe tbody tr th {\n        vertical-align: top;\n    }\n\n    .dataframe thead th {\n        text-align: right;\n    }\n</style>\n<table border=\"1\" class=\"dataframe\">\n  <thead>\n    <tr style=\"text-align: right;\">\n      <th></th>\n      <th>mse</th>\n      <th>rmse</th>\n      <th>p_max_param</th>\n      <th>p_max</th>\n      <th>intercept</th>\n      <th>parameters</th>\n      <th>coefficients</th>\n      <th>p_vals</th>\n    </tr>\n  </thead>\n  <tbody>\n    <tr>\n      <th>0</th>\n      <td>773.407425</td>\n      <td>15.708199</td>\n      <td>weight</td>\n      <td>5.567005e-03</td>\n      <td>True</td>\n      <td>[time_5000, time_10000, age, height, weight]</td>\n      <td>[97.67987755139197, 0.20108105355923303, 0.065...</td>\n      <td>[6.541600246900434e-15, 2.600385217866122e-213...</td>\n    </tr>\n    <tr>\n      <th>1</th>\n      <td>773.631602</td>\n      <td>15.651435</td>\n      <td>height</td>\n      <td>1.195539e-10</td>\n      <td>True</td>\n      <td>[time_5000, time_10000, age, height]</td>\n      <td>[87.94117911630701, 0.20162314483299784, 0.066...</td>\n      <td>[2.7023316953788525e-13, 2.744405326865826e-21...</td>\n    </tr>\n  </tbody>\n</table>\n</div>"
     },
     "metadata": {}
    }
   ],
   "source": [
    "file_path = \"./\"\n",
    "file_5_2_10 = \"5_2_10.csv\"\n",
    "\n",
    "pp_5_2_10 = pp.Predictor(f\"{file_path}{file_5_2_10}\", random_state=42)\n",
    "\n",
    "pp_5_2_10.df = pp_5_2_10.df.drop([\"adaptive_rowing_category\",\"weight_class\", \"profile_id\"], axis=1)\n",
    "\n",
    "pp_5_2_10.split_data()\n",
    "\n",
    "col_y = \"time_2000\"\n",
    "cols_x = pp.get_cols_x(pp_5_2_10.df, col_y)\n",
    "\n",
    "pp_5_2_10.add_model(\"Linear\", col_y, cols_x, 1, \"First order model to predict 2k, using all vars\", alpha=0.001)\n",
    "pp_5_2_10.models[\"Linear\"].iterate()\n",
    "display(pp_5_2_10.models[\"Linear\"].summary)\n"
   ]
  },
  {
   "cell_type": "code",
   "execution_count": 15,
   "metadata": {},
   "outputs": [
    {
     "output_type": "display_data",
     "data": {
      "text/plain": "           mse       rmse p_max_param         p_max intercept  \\\n0  4260.738149  32.838734      weight  3.831986e-01      True   \n1  4260.778515  32.867532         age  6.531502e-08      True   \n\n                                     parameters  \\\n0  [time_2000, time_10000, age, height, weight]   \n1          [time_2000, time_10000, age, height]   \n\n                                        coefficients  \\\n0  [244.51791945570434, 0.8804801615451783, 0.264...   \n1  [238.05267100931667, 0.881628629068782, 0.2648...   \n\n                                              p_vals  \n0  [1.0104109731184089e-20, 2.6003852178674537e-2...  \n1  [2.5877317002180042e-21, 2.7444053268683254e-2...  ",
      "text/html": "<div>\n<style scoped>\n    .dataframe tbody tr th:only-of-type {\n        vertical-align: middle;\n    }\n\n    .dataframe tbody tr th {\n        vertical-align: top;\n    }\n\n    .dataframe thead th {\n        text-align: right;\n    }\n</style>\n<table border=\"1\" class=\"dataframe\">\n  <thead>\n    <tr style=\"text-align: right;\">\n      <th></th>\n      <th>mse</th>\n      <th>rmse</th>\n      <th>p_max_param</th>\n      <th>p_max</th>\n      <th>intercept</th>\n      <th>parameters</th>\n      <th>coefficients</th>\n      <th>p_vals</th>\n    </tr>\n  </thead>\n  <tbody>\n    <tr>\n      <th>0</th>\n      <td>4260.738149</td>\n      <td>32.838734</td>\n      <td>weight</td>\n      <td>3.831986e-01</td>\n      <td>True</td>\n      <td>[time_2000, time_10000, age, height, weight]</td>\n      <td>[244.51791945570434, 0.8804801615451783, 0.264...</td>\n      <td>[1.0104109731184089e-20, 2.6003852178674537e-2...</td>\n    </tr>\n    <tr>\n      <th>1</th>\n      <td>4260.778515</td>\n      <td>32.867532</td>\n      <td>age</td>\n      <td>6.531502e-08</td>\n      <td>True</td>\n      <td>[time_2000, time_10000, age, height]</td>\n      <td>[238.05267100931667, 0.881628629068782, 0.2648...</td>\n      <td>[2.5877317002180042e-21, 2.7444053268683254e-2...</td>\n    </tr>\n  </tbody>\n</table>\n</div>"
     },
     "metadata": {}
    }
   ],
   "source": [
    "col_y = \"time_5000\"\n",
    "cols_x = pp.get_cols_x(pp_5_2_10.df, col_y)\n",
    "model_name = \"Linear 5k\"\n",
    "pp_5_2_10.add_model(model_name, col_y, cols_x, 1, \"First order model to predict 5k, using all vars\", alpha=0.05)\n",
    "pp_5_2_10.models[model_name].iterate()\n",
    "display(pp_5_2_10.models[model_name].summary)"
   ]
  },
  {
   "cell_type": "code",
   "execution_count": 16,
   "metadata": {},
   "outputs": [
    {
     "output_type": "display_data",
     "data": {
      "text/plain": "            mse        rmse   p_max_param     p_max intercept  \\\n0  22672.074261  107.386612        weight  0.902934      True   \n1  22554.379710  107.084896  time_10000_2  0.612737      True   \n2  22554.379710  107.084896  time_10000_3  0.533941      True   \n3  23968.022899  110.794687      weight_3  0.045976      True   \n\n                                          parameters  \\\n0  [time_2000, time_10000, age, height, weight, t...   \n1  [time_2000, time_10000, age, height, time_2000...   \n2  [time_2000, time_10000, age, height, time_2000...   \n3  [time_2000, time_10000, age, height, time_2000...   \n\n                                        coefficients  \\\n0  [390.5459049650789, 2.3603907339399033, 0.2149...   \n1  [385.7198463128907, 2.3596546052492, 0.2147661...   \n2  [385.7198463206159, 2.359654605219775, 0.21476...   \n3  [377.5761770511703, 2.3247116372234355, 0.2348...   \n\n                                              p_vals  \n0  [0.03372395952765746, 1.9254719152689212e-84, ...  \n1  [0.03174290170668989, 1.2960037123038854e-84, ...  \n2  [0.03174290170329071, 1.296003712339376e-84, 5...  \n3  [0.035026773660598726, 2.2156589518166846e-104...  ",
      "text/html": "<div>\n<style scoped>\n    .dataframe tbody tr th:only-of-type {\n        vertical-align: middle;\n    }\n\n    .dataframe tbody tr th {\n        vertical-align: top;\n    }\n\n    .dataframe thead th {\n        text-align: right;\n    }\n</style>\n<table border=\"1\" class=\"dataframe\">\n  <thead>\n    <tr style=\"text-align: right;\">\n      <th></th>\n      <th>mse</th>\n      <th>rmse</th>\n      <th>p_max_param</th>\n      <th>p_max</th>\n      <th>intercept</th>\n      <th>parameters</th>\n      <th>coefficients</th>\n      <th>p_vals</th>\n    </tr>\n  </thead>\n  <tbody>\n    <tr>\n      <th>0</th>\n      <td>22672.074261</td>\n      <td>107.386612</td>\n      <td>weight</td>\n      <td>0.902934</td>\n      <td>True</td>\n      <td>[time_2000, time_10000, age, height, weight, t...</td>\n      <td>[390.5459049650789, 2.3603907339399033, 0.2149...</td>\n      <td>[0.03372395952765746, 1.9254719152689212e-84, ...</td>\n    </tr>\n    <tr>\n      <th>1</th>\n      <td>22554.379710</td>\n      <td>107.084896</td>\n      <td>time_10000_2</td>\n      <td>0.612737</td>\n      <td>True</td>\n      <td>[time_2000, time_10000, age, height, time_2000...</td>\n      <td>[385.7198463128907, 2.3596546052492, 0.2147661...</td>\n      <td>[0.03174290170668989, 1.2960037123038854e-84, ...</td>\n    </tr>\n    <tr>\n      <th>2</th>\n      <td>22554.379710</td>\n      <td>107.084896</td>\n      <td>time_10000_3</td>\n      <td>0.533941</td>\n      <td>True</td>\n      <td>[time_2000, time_10000, age, height, time_2000...</td>\n      <td>[385.7198463206159, 2.359654605219775, 0.21476...</td>\n      <td>[0.03174290170329071, 1.296003712339376e-84, 5...</td>\n    </tr>\n    <tr>\n      <th>3</th>\n      <td>23968.022899</td>\n      <td>110.794687</td>\n      <td>weight_3</td>\n      <td>0.045976</td>\n      <td>True</td>\n      <td>[time_2000, time_10000, age, height, time_2000...</td>\n      <td>[377.5761770511703, 2.3247116372234355, 0.2348...</td>\n      <td>[0.035026773660598726, 2.2156589518166846e-104...</td>\n    </tr>\n  </tbody>\n</table>\n</div>"
     },
     "metadata": {}
    }
   ],
   "source": [
    "col_y = \"time_5000\"\n",
    "cols_x = pp.get_cols_x(pp_5_2_10.df, col_y)\n",
    "model_name = \"2nd order 5k\"\n",
    "pp_5_2_10.add_model(model_name, col_y, cols_x, 3, \"2nd order model to predict 5k, using all vars\", alpha=0.05)\n",
    "pp_5_2_10.models[model_name].iterate()\n",
    "display(pp_5_2_10.models[model_name].summary)"
   ]
  },
  {
   "cell_type": "code",
   "execution_count": null,
   "metadata": {},
   "outputs": [],
   "source": []
  }
 ]
}