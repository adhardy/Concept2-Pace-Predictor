{
 "metadata": {
  "language_info": {
   "codemirror_mode": {
    "name": "ipython",
    "version": 3
   },
   "file_extension": ".py",
   "mimetype": "text/x-python",
   "name": "python",
   "nbconvert_exporter": "python",
   "pygments_lexer": "ipython3",
   "version": "3.8.5-final"
  },
  "orig_nbformat": 2,
  "kernelspec": {
   "name": "python3",
   "display_name": "Python 3.8.5 64-bit ('base': conda)",
   "metadata": {
    "interpreter": {
     "hash": "d504e65763db0712997c5abf4e36f31acc377fe14fcbb9335ac404214f57dc0f"
    }
   }
  }
 },
 "nbformat": 4,
 "nbformat_minor": 2,
 "cells": [
  {
   "cell_type": "code",
   "execution_count": 1,
   "metadata": {},
   "outputs": [
    {
     "output_type": "execute_result",
     "data": {
      "text/plain": [
       "<module 'pacepredictor' from '/home/adam/Concept2-Pace-Predictor/pacepredictor.py'>"
      ]
     },
     "metadata": {},
     "execution_count": 1
    }
   ],
   "source": [
    "import pacepredictor as pp\n",
    "import importlib\n",
    "import plotly.express as px\n",
    "import pandas as pd\n",
    "import numpy as npa\n",
    "\n",
    "importlib.reload(pp)\n"
   ]
  },
  {
   "cell_type": "code",
   "execution_count": 2,
   "metadata": {},
   "outputs": [
    {
     "output_type": "display_data",
     "data": {
      "text/plain": "          mse       rmse p_max_param         p_max intercept  \\\n0  773.407425  15.708199      weight  5.567005e-03      True   \n1  773.631602  15.651435      height  1.195539e-10      True   \n\n                                     parameters  \\\n0  [time_5000, time_10000, age, height, weight]   \n1          [time_5000, time_10000, age, height]   \n\n                                        coefficients  \\\n0  [97.67987755139197, 0.20108105355923303, 0.065...   \n1  [87.94117911630701, 0.20162314483299784, 0.066...   \n\n                                              p_vals  \n0  [6.541600246900434e-15, 2.600385217866122e-213...  \n1  [2.7023316953788525e-13, 2.744405326865826e-21...  ",
      "text/html": "<div>\n<style scoped>\n    .dataframe tbody tr th:only-of-type {\n        vertical-align: middle;\n    }\n\n    .dataframe tbody tr th {\n        vertical-align: top;\n    }\n\n    .dataframe thead th {\n        text-align: right;\n    }\n</style>\n<table border=\"1\" class=\"dataframe\">\n  <thead>\n    <tr style=\"text-align: right;\">\n      <th></th>\n      <th>mse</th>\n      <th>rmse</th>\n      <th>p_max_param</th>\n      <th>p_max</th>\n      <th>intercept</th>\n      <th>parameters</th>\n      <th>coefficients</th>\n      <th>p_vals</th>\n    </tr>\n  </thead>\n  <tbody>\n    <tr>\n      <th>0</th>\n      <td>773.407425</td>\n      <td>15.708199</td>\n      <td>weight</td>\n      <td>5.567005e-03</td>\n      <td>True</td>\n      <td>[time_5000, time_10000, age, height, weight]</td>\n      <td>[97.67987755139197, 0.20108105355923303, 0.065...</td>\n      <td>[6.541600246900434e-15, 2.600385217866122e-213...</td>\n    </tr>\n    <tr>\n      <th>1</th>\n      <td>773.631602</td>\n      <td>15.651435</td>\n      <td>height</td>\n      <td>1.195539e-10</td>\n      <td>True</td>\n      <td>[time_5000, time_10000, age, height]</td>\n      <td>[87.94117911630701, 0.20162314483299784, 0.066...</td>\n      <td>[2.7023316953788525e-13, 2.744405326865826e-21...</td>\n    </tr>\n  </tbody>\n</table>\n</div>"
     },
     "metadata": {}
    }
   ],
   "source": [
    "file_path = \"./\"\n",
    "file_5_2_10 = \"5_2_10.csv\"\n",
    "\n",
    "pp_5_2_10 = pp.Predictor(f\"{file_path}{file_5_2_10}\", random_state=42)\n",
    "\n",
    "pp_5_2_10.df = pp_5_2_10.df.drop([\"adaptive_rowing_category\",\"weight_class\", \"profile_id\"], axis=1)\n",
    "\n",
    "pp_5_2_10.split_data()\n",
    "\n",
    "col_y = \"time_2000\"\n",
    "cols_x = pp.get_cols_x(pp_5_2_10.df, col_y)\n",
    "\n",
    "pp_5_2_10.add_model(\"Linear\", col_y, cols_x, 1, \"First order model to predict 2k, using all vars\", alpha=0.001)\n",
    "pp_5_2_10.models[\"Linear\"].iterate()\n",
    "display(pp_5_2_10.models[\"Linear\"].summary)\n"
   ]
  },
  {
   "cell_type": "code",
   "execution_count": 3,
   "metadata": {},
   "outputs": [
    {
     "output_type": "display_data",
     "data": {
      "text/plain": "            mse        rmse   p_max_param     p_max intercept  \\\n0  22672.074262  107.386612        weight  0.902934      True   \n1  22554.379710  107.084896  time_10000_2  0.533941      True   \n2  23968.022899  110.794687      weight_2  0.045971      True   \n\n                                          parameters  \\\n0  [time_2000, time_10000, age, height, weight, t...   \n1  [time_2000, time_10000, age, height, time_2000...   \n2  [time_2000, time_10000, age, height, time_2000...   \n\n                                        coefficients  \\\n0  [390.5459049556124, 2.360390733958876, 0.21495...   \n1  [385.71984631502113, 2.3596546052306655, 0.214...   \n2  [377.5761770516804, 2.3247116372234085, 0.2348...   \n\n                                              p_vals  \n0  [0.03372395953200917, 1.9254719152836257e-84, ...  \n1  [0.031742901705803385, 1.2960037123117517e-84,...  \n2  [0.035026773660350924, 2.2156589518139078e-104...  ",
      "text/html": "<div>\n<style scoped>\n    .dataframe tbody tr th:only-of-type {\n        vertical-align: middle;\n    }\n\n    .dataframe tbody tr th {\n        vertical-align: top;\n    }\n\n    .dataframe thead th {\n        text-align: right;\n    }\n</style>\n<table border=\"1\" class=\"dataframe\">\n  <thead>\n    <tr style=\"text-align: right;\">\n      <th></th>\n      <th>mse</th>\n      <th>rmse</th>\n      <th>p_max_param</th>\n      <th>p_max</th>\n      <th>intercept</th>\n      <th>parameters</th>\n      <th>coefficients</th>\n      <th>p_vals</th>\n    </tr>\n  </thead>\n  <tbody>\n    <tr>\n      <th>0</th>\n      <td>22672.074262</td>\n      <td>107.386612</td>\n      <td>weight</td>\n      <td>0.902934</td>\n      <td>True</td>\n      <td>[time_2000, time_10000, age, height, weight, t...</td>\n      <td>[390.5459049556124, 2.360390733958876, 0.21495...</td>\n      <td>[0.03372395953200917, 1.9254719152836257e-84, ...</td>\n    </tr>\n    <tr>\n      <th>1</th>\n      <td>22554.379710</td>\n      <td>107.084896</td>\n      <td>time_10000_2</td>\n      <td>0.533941</td>\n      <td>True</td>\n      <td>[time_2000, time_10000, age, height, time_2000...</td>\n      <td>[385.71984631502113, 2.3596546052306655, 0.214...</td>\n      <td>[0.031742901705803385, 1.2960037123117517e-84,...</td>\n    </tr>\n    <tr>\n      <th>2</th>\n      <td>23968.022899</td>\n      <td>110.794687</td>\n      <td>weight_2</td>\n      <td>0.045971</td>\n      <td>True</td>\n      <td>[time_2000, time_10000, age, height, time_2000...</td>\n      <td>[377.5761770516804, 2.3247116372234085, 0.2348...</td>\n      <td>[0.035026773660350924, 2.2156589518139078e-104...</td>\n    </tr>\n  </tbody>\n</table>\n</div>"
     },
     "metadata": {}
    }
   ],
   "source": [
    "col_y = \"time_5000\"\n",
    "cols_x = pp.get_cols_x(pp_5_2_10.df, col_y)\n",
    "model_name = \"Linear 5k\"\n",
    "pp_5_2_10.add_model(model_name, col_y, cols_x, 2, \"First order model to predict 5k, using all vars\", alpha=0.05)\n",
    "pp_5_2_10.models[model_name].iterate()\n",
    "display(pp_5_2_10.models[model_name].summary)"
   ]
  },
  {
   "cell_type": "code",
   "execution_count": 4,
   "metadata": {},
   "outputs": [
    {
     "output_type": "display_data",
     "data": {
      "text/plain": "           mse       rmse p_max_param     p_max intercept  \\\n0  7260.719763  57.045585       age_2  0.906892      True   \n1  7258.005675  56.999256   Intercept  0.183734      True   \n2  5934.686534  49.820265  time_10000  0.072673     False   \n3  6402.987790  52.730188      weight  0.000596     False   \n\n                                          parameters  \\\n0  [time_5000, time_10000, age, height, weight, t...   \n1  [time_5000, time_10000, age, height, weight, t...   \n2  [time_5000, time_10000, age, height, weight, t...   \n3  [time_5000, age, height, weight, time_5000_2, ...   \n\n                                        coefficients  \\\n0  [115.87333704537274, 0.6690856128597789, -0.03...   \n1  [116.68910459052009, 0.6692235932853552, -0.03...   \n2  [0.6745487450655476, -0.03385354174746923, 0.4...   \n3  [0.6276246743563524, 0.4590679184368543, -1.30...   \n\n                                              p_vals  \n0  [0.1882493287574139, 1.0221120574112376e-72, 0...  \n1  [0.1837343630253341, 7.85920557060543e-73, 0.0...  \n2  [9.076496311077834e-75, 0.07267326402029235, 1...  \n3  [7.307561102983337e-130, 5.615107671290271e-38...  ",
      "text/html": "<div>\n<style scoped>\n    .dataframe tbody tr th:only-of-type {\n        vertical-align: middle;\n    }\n\n    .dataframe tbody tr th {\n        vertical-align: top;\n    }\n\n    .dataframe thead th {\n        text-align: right;\n    }\n</style>\n<table border=\"1\" class=\"dataframe\">\n  <thead>\n    <tr style=\"text-align: right;\">\n      <th></th>\n      <th>mse</th>\n      <th>rmse</th>\n      <th>p_max_param</th>\n      <th>p_max</th>\n      <th>intercept</th>\n      <th>parameters</th>\n      <th>coefficients</th>\n      <th>p_vals</th>\n    </tr>\n  </thead>\n  <tbody>\n    <tr>\n      <th>0</th>\n      <td>7260.719763</td>\n      <td>57.045585</td>\n      <td>age_2</td>\n      <td>0.906892</td>\n      <td>True</td>\n      <td>[time_5000, time_10000, age, height, weight, t...</td>\n      <td>[115.87333704537274, 0.6690856128597789, -0.03...</td>\n      <td>[0.1882493287574139, 1.0221120574112376e-72, 0...</td>\n    </tr>\n    <tr>\n      <th>1</th>\n      <td>7258.005675</td>\n      <td>56.999256</td>\n      <td>Intercept</td>\n      <td>0.183734</td>\n      <td>True</td>\n      <td>[time_5000, time_10000, age, height, weight, t...</td>\n      <td>[116.68910459052009, 0.6692235932853552, -0.03...</td>\n      <td>[0.1837343630253341, 7.85920557060543e-73, 0.0...</td>\n    </tr>\n    <tr>\n      <th>2</th>\n      <td>5934.686534</td>\n      <td>49.820265</td>\n      <td>time_10000</td>\n      <td>0.072673</td>\n      <td>False</td>\n      <td>[time_5000, time_10000, age, height, weight, t...</td>\n      <td>[0.6745487450655476, -0.03385354174746923, 0.4...</td>\n      <td>[9.076496311077834e-75, 0.07267326402029235, 1...</td>\n    </tr>\n    <tr>\n      <th>3</th>\n      <td>6402.987790</td>\n      <td>52.730188</td>\n      <td>weight</td>\n      <td>0.000596</td>\n      <td>False</td>\n      <td>[time_5000, age, height, weight, time_5000_2, ...</td>\n      <td>[0.6276246743563524, 0.4590679184368543, -1.30...</td>\n      <td>[7.307561102983337e-130, 5.615107671290271e-38...</td>\n    </tr>\n  </tbody>\n</table>\n</div>"
     },
     "metadata": {}
    }
   ],
   "source": [
    "col_y = \"time_2000\"\n",
    "cols_x = pp.get_cols_x(pp_5_2_10.df, col_y)\n",
    "model_name = \"2nd order 2k\"\n",
    "pp_5_2_10.add_model(model_name, col_y, cols_x, 2, \"2nd order model to predict 2k, using all vars\", alpha=0.05)\n",
    "pp_5_2_10.models[model_name].iterate()\n",
    "display(pp_5_2_10.models[model_name].summary)"
   ]
  },
  {
   "cell_type": "code",
   "execution_count": null,
   "metadata": {},
   "outputs": [],
   "source": []
  }
 ]
}