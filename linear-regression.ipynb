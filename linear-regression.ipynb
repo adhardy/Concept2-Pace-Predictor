{
 "metadata": {
  "language_info": {
   "codemirror_mode": {
    "name": "ipython",
    "version": 3
   },
   "file_extension": ".py",
   "mimetype": "text/x-python",
   "name": "python",
   "nbconvert_exporter": "python",
   "pygments_lexer": "ipython3",
   "version": "3.8.5-final"
  },
  "orig_nbformat": 2,
  "kernelspec": {
   "name": "python3",
   "display_name": "Python 3",
   "language": "python"
  }
 },
 "nbformat": 4,
 "nbformat_minor": 2,
 "cells": [
  {
   "cell_type": "code",
   "execution_count": 9,
   "metadata": {},
   "outputs": [
    {
     "output_type": "execute_result",
     "data": {
      "text/plain": [
       "<module 'pacepredictor' from '/home/adam/concept2-pace-predictor/Concept2-Pace-Predictor/pacepredictor.py'>"
      ]
     },
     "metadata": {},
     "execution_count": 9
    }
   ],
   "source": [
    "import pacepredictor\n",
    "import importlib\n",
    "import plotly.express as px\n",
    "importlib.reload(pacepredictor)"
   ]
  },
  {
   "cell_type": "code",
   "execution_count": 10,
   "metadata": {},
   "outputs": [
    {
     "output_type": "execute_result",
     "data": {
      "text/plain": [
       "       5000_time  2000_time  10000_time adaptive rowing category  age  height  \\\n",
       "4         1086.8      416.4      2222.6                     able   56   188.0   \n",
       "11        1075.6      388.7      2221.0                     able   48   185.4   \n",
       "17        1006.9      387.3      2051.8                     able   45   185.4   \n",
       "24        1334.1      523.9      2841.8                     able   84   172.7   \n",
       "37        1849.6      754.6        66.0                     able   79   172.7   \n",
       "...          ...        ...         ...                      ...  ...     ...   \n",
       "65126     1164.4      450.6      2711.6                     able   44   193.0   \n",
       "65273     1463.0      632.6      3418.2                     able   43   165.1   \n",
       "65300     1364.3      505.0      2828.1                     able   58   162.6   \n",
       "65331     1215.6      458.9      2531.2                     able   45   182.9   \n",
       "65487     1614.7      710.7      3078.0                     able   50   185.4   \n",
       "\n",
       "      member since  weight weight_class  profile_id  \n",
       "4       1999-10-03    97.1            H          83  \n",
       "11      1999-10-13    93.0            H         177  \n",
       "17      1999-11-02    73.9            L         389  \n",
       "24      1999-11-11    73.0            L         488  \n",
       "37      1999-11-30    65.8            L         724  \n",
       "...            ...     ...          ...         ...  \n",
       "65126   2021-02-26    99.8            H     1465969  \n",
       "65273   2021-03-02    89.8            H     1467609  \n",
       "65300   2021-03-02    59.0            L     1467928  \n",
       "65331   2021-03-03    92.5            H     1468172  \n",
       "65487   2021-03-08    85.3            H     1470248  \n",
       "\n",
       "[7133 rows x 10 columns]"
      ],
      "text/html": "<div>\n<style scoped>\n    .dataframe tbody tr th:only-of-type {\n        vertical-align: middle;\n    }\n\n    .dataframe tbody tr th {\n        vertical-align: top;\n    }\n\n    .dataframe thead th {\n        text-align: right;\n    }\n</style>\n<table border=\"1\" class=\"dataframe\">\n  <thead>\n    <tr style=\"text-align: right;\">\n      <th></th>\n      <th>5000_time</th>\n      <th>2000_time</th>\n      <th>10000_time</th>\n      <th>adaptive rowing category</th>\n      <th>age</th>\n      <th>height</th>\n      <th>member since</th>\n      <th>weight</th>\n      <th>weight_class</th>\n      <th>profile_id</th>\n    </tr>\n  </thead>\n  <tbody>\n    <tr>\n      <th>4</th>\n      <td>1086.8</td>\n      <td>416.4</td>\n      <td>2222.6</td>\n      <td>able</td>\n      <td>56</td>\n      <td>188.0</td>\n      <td>1999-10-03</td>\n      <td>97.1</td>\n      <td>H</td>\n      <td>83</td>\n    </tr>\n    <tr>\n      <th>11</th>\n      <td>1075.6</td>\n      <td>388.7</td>\n      <td>2221.0</td>\n      <td>able</td>\n      <td>48</td>\n      <td>185.4</td>\n      <td>1999-10-13</td>\n      <td>93.0</td>\n      <td>H</td>\n      <td>177</td>\n    </tr>\n    <tr>\n      <th>17</th>\n      <td>1006.9</td>\n      <td>387.3</td>\n      <td>2051.8</td>\n      <td>able</td>\n      <td>45</td>\n      <td>185.4</td>\n      <td>1999-11-02</td>\n      <td>73.9</td>\n      <td>L</td>\n      <td>389</td>\n    </tr>\n    <tr>\n      <th>24</th>\n      <td>1334.1</td>\n      <td>523.9</td>\n      <td>2841.8</td>\n      <td>able</td>\n      <td>84</td>\n      <td>172.7</td>\n      <td>1999-11-11</td>\n      <td>73.0</td>\n      <td>L</td>\n      <td>488</td>\n    </tr>\n    <tr>\n      <th>37</th>\n      <td>1849.6</td>\n      <td>754.6</td>\n      <td>66.0</td>\n      <td>able</td>\n      <td>79</td>\n      <td>172.7</td>\n      <td>1999-11-30</td>\n      <td>65.8</td>\n      <td>L</td>\n      <td>724</td>\n    </tr>\n    <tr>\n      <th>...</th>\n      <td>...</td>\n      <td>...</td>\n      <td>...</td>\n      <td>...</td>\n      <td>...</td>\n      <td>...</td>\n      <td>...</td>\n      <td>...</td>\n      <td>...</td>\n      <td>...</td>\n    </tr>\n    <tr>\n      <th>65126</th>\n      <td>1164.4</td>\n      <td>450.6</td>\n      <td>2711.6</td>\n      <td>able</td>\n      <td>44</td>\n      <td>193.0</td>\n      <td>2021-02-26</td>\n      <td>99.8</td>\n      <td>H</td>\n      <td>1465969</td>\n    </tr>\n    <tr>\n      <th>65273</th>\n      <td>1463.0</td>\n      <td>632.6</td>\n      <td>3418.2</td>\n      <td>able</td>\n      <td>43</td>\n      <td>165.1</td>\n      <td>2021-03-02</td>\n      <td>89.8</td>\n      <td>H</td>\n      <td>1467609</td>\n    </tr>\n    <tr>\n      <th>65300</th>\n      <td>1364.3</td>\n      <td>505.0</td>\n      <td>2828.1</td>\n      <td>able</td>\n      <td>58</td>\n      <td>162.6</td>\n      <td>2021-03-02</td>\n      <td>59.0</td>\n      <td>L</td>\n      <td>1467928</td>\n    </tr>\n    <tr>\n      <th>65331</th>\n      <td>1215.6</td>\n      <td>458.9</td>\n      <td>2531.2</td>\n      <td>able</td>\n      <td>45</td>\n      <td>182.9</td>\n      <td>2021-03-03</td>\n      <td>92.5</td>\n      <td>H</td>\n      <td>1468172</td>\n    </tr>\n    <tr>\n      <th>65487</th>\n      <td>1614.7</td>\n      <td>710.7</td>\n      <td>3078.0</td>\n      <td>able</td>\n      <td>50</td>\n      <td>185.4</td>\n      <td>2021-03-08</td>\n      <td>85.3</td>\n      <td>H</td>\n      <td>1470248</td>\n    </tr>\n  </tbody>\n</table>\n<p>7133 rows × 10 columns</p>\n</div>"
     },
     "metadata": {},
     "execution_count": 10
    }
   ],
   "source": [
    "file_path = \"/home/adam/concept2-logbook-scraper/analysis/\"\n",
    "file_5_2_10 = \"5_2_10.csv\"\n",
    "\n",
    "pp_5_2_10 = pacepredictor.Predictor(f\"{file_path}{file_5_2_10}\")\n",
    "\n",
    "pp_5_2_10.df"
   ]
  },
  {
   "cell_type": "code",
   "execution_count": null,
   "metadata": {},
   "outputs": [],
   "source": []
  }
 ]
}