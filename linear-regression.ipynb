{
 "metadata": {
  "language_info": {
   "codemirror_mode": {
    "name": "ipython",
    "version": 3
   },
   "file_extension": ".py",
   "mimetype": "text/x-python",
   "name": "python",
   "nbconvert_exporter": "python",
   "pygments_lexer": "ipython3",
   "version": "3.8.5-final"
  },
  "orig_nbformat": 2,
  "kernelspec": {
   "name": "python3",
   "display_name": "Python 3",
   "language": "python"
  }
 },
 "nbformat": 4,
 "nbformat_minor": 2,
 "cells": [
  {
   "cell_type": "code",
   "execution_count": 11,
   "metadata": {},
   "outputs": [],
   "source": [
    "import pacepredictor\n",
    "import importlib\n",
    "importlib.reload(pacepredictor)\n",
    "\n",
    "pp = pacepredictor.Predictor()"
   ]
  },
  {
   "cell_type": "code",
   "execution_count": 12,
   "metadata": {},
   "outputs": [],
   "source": [
    "input_path = \"/home/adam/concept2-logbook-scraper/analysis/\"\n",
    "pp.load_csvs(input_path)"
   ]
  },
  {
   "source": [
    "# Merge Athletes and Workouts\n",
    "\n",
    "Want one row per athlete, with each workout a different column time/distance a different column\n",
    "\n",
    "Could have mutliple results per event over several years -> just take the most recent\n",
    "\n",
    "Could have multiple results per type of machine -> just use rowing for now"
   ],
   "cell_type": "markdown",
   "metadata": {}
  },
  {
   "cell_type": "code",
   "execution_count": 14,
   "metadata": {},
   "outputs": [
    {
     "output_type": "execute_result",
     "data": {
      "text/plain": [
       "        Unnamed: 0 adaptive_cat                           affil  age country  \\\n",
       "0           106963         able                            solo   43     EST   \n",
       "1           112855         able                            solo   38     CAN   \n",
       "2            42887         able                            solo   22     URU   \n",
       "3            49822         able                            solo   17     FIN   \n",
       "4            84000         able                            solo   46     GBR   \n",
       "...            ...          ...                             ...  ...     ...   \n",
       "308238      177659         able  Concept2, Inc, Morrisville, VT   66     USA   \n",
       "308239      242248         able  Concept2, Inc, Morrisville, VT   55     USA   \n",
       "308240      331826         able  Concept2, Inc, Morrisville, VT   54     USA   \n",
       "308241      313672         able  Concept2, Inc, Morrisville, VT   53     USA   \n",
       "308242      235986         able  Concept2, Inc, Morrisville, VT   72     USA   \n",
       "\n",
       "        distance  event gender  machine   pos  profile_id    time verified  \\\n",
       "0          10000  10000      M    rower  6227     1472433  2571.6      Yes   \n",
       "1          10000  10000      F    rower  1282     1472423  3202.8      Yes   \n",
       "2           1000   1000      M    rower    45     1472313   177.0      Yes   \n",
       "3           1000   1000      F    rower   266     1472309   230.4      Yes   \n",
       "4           5000   5000      M    rower  9761     1472269  1304.7      Yes   \n",
       "...          ...    ...    ...      ...   ...         ...     ...      ...   \n",
       "308238      1000   1000      F    rower  1257          31   255.9      Yes   \n",
       "308239     29266     60      M  bikeerg   180          21  3600.0      Yes   \n",
       "308240     40000  40000      M  bikeerg    62          21    80.0      Yes   \n",
       "308241     10000  10000      M    rower  1614          21  2373.7      Yes   \n",
       "308242      1000   1000      M   skierg   583          17   228.8      Yes   \n",
       "\n",
       "       weight_class  workout_id  year  \n",
       "0                 H    52499015  2021  \n",
       "1                 H    52497877  2021  \n",
       "2                 H    52491233  2021  \n",
       "3                 H    52492183  2021  \n",
       "4                 H    52488223  2021  \n",
       "...             ...         ...   ...  \n",
       "308238            H    40334323  2020  \n",
       "308239            H    40934698  2020  \n",
       "308240            H    36048566  2019  \n",
       "308241            H    33610282  2019  \n",
       "308242            H    40313770  2020  \n",
       "\n",
       "[308243 rows x 16 columns]"
      ],
      "text/html": "<div>\n<style scoped>\n    .dataframe tbody tr th:only-of-type {\n        vertical-align: middle;\n    }\n\n    .dataframe tbody tr th {\n        vertical-align: top;\n    }\n\n    .dataframe thead th {\n        text-align: right;\n    }\n</style>\n<table border=\"1\" class=\"dataframe\">\n  <thead>\n    <tr style=\"text-align: right;\">\n      <th></th>\n      <th>Unnamed: 0</th>\n      <th>adaptive_cat</th>\n      <th>affil</th>\n      <th>age</th>\n      <th>country</th>\n      <th>distance</th>\n      <th>event</th>\n      <th>gender</th>\n      <th>machine</th>\n      <th>pos</th>\n      <th>profile_id</th>\n      <th>time</th>\n      <th>verified</th>\n      <th>weight_class</th>\n      <th>workout_id</th>\n      <th>year</th>\n    </tr>\n  </thead>\n  <tbody>\n    <tr>\n      <th>0</th>\n      <td>106963</td>\n      <td>able</td>\n      <td>solo</td>\n      <td>43</td>\n      <td>EST</td>\n      <td>10000</td>\n      <td>10000</td>\n      <td>M</td>\n      <td>rower</td>\n      <td>6227</td>\n      <td>1472433</td>\n      <td>2571.6</td>\n      <td>Yes</td>\n      <td>H</td>\n      <td>52499015</td>\n      <td>2021</td>\n    </tr>\n    <tr>\n      <th>1</th>\n      <td>112855</td>\n      <td>able</td>\n      <td>solo</td>\n      <td>38</td>\n      <td>CAN</td>\n      <td>10000</td>\n      <td>10000</td>\n      <td>F</td>\n      <td>rower</td>\n      <td>1282</td>\n      <td>1472423</td>\n      <td>3202.8</td>\n      <td>Yes</td>\n      <td>H</td>\n      <td>52497877</td>\n      <td>2021</td>\n    </tr>\n    <tr>\n      <th>2</th>\n      <td>42887</td>\n      <td>able</td>\n      <td>solo</td>\n      <td>22</td>\n      <td>URU</td>\n      <td>1000</td>\n      <td>1000</td>\n      <td>M</td>\n      <td>rower</td>\n      <td>45</td>\n      <td>1472313</td>\n      <td>177.0</td>\n      <td>Yes</td>\n      <td>H</td>\n      <td>52491233</td>\n      <td>2021</td>\n    </tr>\n    <tr>\n      <th>3</th>\n      <td>49822</td>\n      <td>able</td>\n      <td>solo</td>\n      <td>17</td>\n      <td>FIN</td>\n      <td>1000</td>\n      <td>1000</td>\n      <td>F</td>\n      <td>rower</td>\n      <td>266</td>\n      <td>1472309</td>\n      <td>230.4</td>\n      <td>Yes</td>\n      <td>H</td>\n      <td>52492183</td>\n      <td>2021</td>\n    </tr>\n    <tr>\n      <th>4</th>\n      <td>84000</td>\n      <td>able</td>\n      <td>solo</td>\n      <td>46</td>\n      <td>GBR</td>\n      <td>5000</td>\n      <td>5000</td>\n      <td>M</td>\n      <td>rower</td>\n      <td>9761</td>\n      <td>1472269</td>\n      <td>1304.7</td>\n      <td>Yes</td>\n      <td>H</td>\n      <td>52488223</td>\n      <td>2021</td>\n    </tr>\n    <tr>\n      <th>...</th>\n      <td>...</td>\n      <td>...</td>\n      <td>...</td>\n      <td>...</td>\n      <td>...</td>\n      <td>...</td>\n      <td>...</td>\n      <td>...</td>\n      <td>...</td>\n      <td>...</td>\n      <td>...</td>\n      <td>...</td>\n      <td>...</td>\n      <td>...</td>\n      <td>...</td>\n      <td>...</td>\n    </tr>\n    <tr>\n      <th>308238</th>\n      <td>177659</td>\n      <td>able</td>\n      <td>Concept2, Inc, Morrisville, VT</td>\n      <td>66</td>\n      <td>USA</td>\n      <td>1000</td>\n      <td>1000</td>\n      <td>F</td>\n      <td>rower</td>\n      <td>1257</td>\n      <td>31</td>\n      <td>255.9</td>\n      <td>Yes</td>\n      <td>H</td>\n      <td>40334323</td>\n      <td>2020</td>\n    </tr>\n    <tr>\n      <th>308239</th>\n      <td>242248</td>\n      <td>able</td>\n      <td>Concept2, Inc, Morrisville, VT</td>\n      <td>55</td>\n      <td>USA</td>\n      <td>29266</td>\n      <td>60</td>\n      <td>M</td>\n      <td>bikeerg</td>\n      <td>180</td>\n      <td>21</td>\n      <td>3600.0</td>\n      <td>Yes</td>\n      <td>H</td>\n      <td>40934698</td>\n      <td>2020</td>\n    </tr>\n    <tr>\n      <th>308240</th>\n      <td>331826</td>\n      <td>able</td>\n      <td>Concept2, Inc, Morrisville, VT</td>\n      <td>54</td>\n      <td>USA</td>\n      <td>40000</td>\n      <td>40000</td>\n      <td>M</td>\n      <td>bikeerg</td>\n      <td>62</td>\n      <td>21</td>\n      <td>80.0</td>\n      <td>Yes</td>\n      <td>H</td>\n      <td>36048566</td>\n      <td>2019</td>\n    </tr>\n    <tr>\n      <th>308241</th>\n      <td>313672</td>\n      <td>able</td>\n      <td>Concept2, Inc, Morrisville, VT</td>\n      <td>53</td>\n      <td>USA</td>\n      <td>10000</td>\n      <td>10000</td>\n      <td>M</td>\n      <td>rower</td>\n      <td>1614</td>\n      <td>21</td>\n      <td>2373.7</td>\n      <td>Yes</td>\n      <td>H</td>\n      <td>33610282</td>\n      <td>2019</td>\n    </tr>\n    <tr>\n      <th>308242</th>\n      <td>235986</td>\n      <td>able</td>\n      <td>Concept2, Inc, Morrisville, VT</td>\n      <td>72</td>\n      <td>USA</td>\n      <td>1000</td>\n      <td>1000</td>\n      <td>M</td>\n      <td>skierg</td>\n      <td>583</td>\n      <td>17</td>\n      <td>228.8</td>\n      <td>Yes</td>\n      <td>H</td>\n      <td>40313770</td>\n      <td>2020</td>\n    </tr>\n  </tbody>\n</table>\n<p>308243 rows × 16 columns</p>\n</div>"
     },
     "metadata": {},
     "execution_count": 14
    }
   ],
   "source": [
    "pp.df_workouts = pp.df_workouts.sort_values(by=[\"profile_id\", \"year\",\"event\"], ascending=False)\n",
    "pp.df_workouts"
   ]
  },
  {
   "cell_type": "code",
   "execution_count": 17,
   "metadata": {},
   "outputs": [
    {
     "output_type": "execute_result",
     "data": {
      "text/plain": [
       "                  Unnamed: 0 adaptive_cat    affil  age country  distance  \\\n",
       "profile_id event                                                            \n",
       "1283218    1000        44653         able     solo   48     USA      1000   \n",
       "           2000       184693         able     solo   47     USA      2000   \n",
       "           10000      109548         able     solo   49     USA     10000   \n",
       "1283224    1            5333         able  FitWaco   25     USA       309   \n",
       "           100         30915         able  FitWaco   25     USA       100   \n",
       "...                      ...          ...      ...  ...     ...       ...   \n",
       "1472269    5000        84000         able     solo   46     GBR      5000   \n",
       "1472309    1000        49822         able     solo   17     FIN      1000   \n",
       "1472313    1000        42887         able     solo   22     URU      1000   \n",
       "1472423    10000      112855         able     solo   38     CAN     10000   \n",
       "1472433    10000      106963         able     solo   43     EST     10000   \n",
       "\n",
       "                 gender machine   pos    time verified weight_class  \\\n",
       "profile_id event                                                      \n",
       "1283218    1000       M   rower  1826   207.0       No            H   \n",
       "           2000       M   rower  1951   419.0      Yes            H   \n",
       "           10000      M   rower  8814  2771.7       No            H   \n",
       "1283224    1          F   rower    74    60.0       No            H   \n",
       "           100        F   rower    73    18.4      Yes            H   \n",
       "...                 ...     ...   ...     ...      ...          ...   \n",
       "1472269    5000       M   rower  9761  1304.7      Yes            H   \n",
       "1472309    1000       F   rower   266   230.4      Yes            H   \n",
       "1472313    1000       M   rower    45   177.0      Yes            H   \n",
       "1472423    10000      F   rower  1282  3202.8      Yes            H   \n",
       "1472433    10000      M   rower  6227  2571.6      Yes            H   \n",
       "\n",
       "                  workout_id  year  \n",
       "profile_id event                    \n",
       "1283218    1000     51451949  2021  \n",
       "           2000     39890613  2020  \n",
       "           10000    52339736  2021  \n",
       "1283224    1        44843347  2021  \n",
       "           100      49800364  2021  \n",
       "...                      ...   ...  \n",
       "1472269    5000     52488223  2021  \n",
       "1472309    1000     52492183  2021  \n",
       "1472313    1000     52491233  2021  \n",
       "1472423    10000    52497877  2021  \n",
       "1472433    10000    52499015  2021  \n",
       "\n",
       "[90871 rows x 14 columns]"
      ],
      "text/html": "<div>\n<style scoped>\n    .dataframe tbody tr th:only-of-type {\n        vertical-align: middle;\n    }\n\n    .dataframe tbody tr th {\n        vertical-align: top;\n    }\n\n    .dataframe thead th {\n        text-align: right;\n    }\n</style>\n<table border=\"1\" class=\"dataframe\">\n  <thead>\n    <tr style=\"text-align: right;\">\n      <th></th>\n      <th></th>\n      <th>Unnamed: 0</th>\n      <th>adaptive_cat</th>\n      <th>affil</th>\n      <th>age</th>\n      <th>country</th>\n      <th>distance</th>\n      <th>gender</th>\n      <th>machine</th>\n      <th>pos</th>\n      <th>time</th>\n      <th>verified</th>\n      <th>weight_class</th>\n      <th>workout_id</th>\n      <th>year</th>\n    </tr>\n    <tr>\n      <th>profile_id</th>\n      <th>event</th>\n      <th></th>\n      <th></th>\n      <th></th>\n      <th></th>\n      <th></th>\n      <th></th>\n      <th></th>\n      <th></th>\n      <th></th>\n      <th></th>\n      <th></th>\n      <th></th>\n      <th></th>\n      <th></th>\n    </tr>\n  </thead>\n  <tbody>\n    <tr>\n      <th rowspan=\"3\" valign=\"top\">1283218</th>\n      <th>1000</th>\n      <td>44653</td>\n      <td>able</td>\n      <td>solo</td>\n      <td>48</td>\n      <td>USA</td>\n      <td>1000</td>\n      <td>M</td>\n      <td>rower</td>\n      <td>1826</td>\n      <td>207.0</td>\n      <td>No</td>\n      <td>H</td>\n      <td>51451949</td>\n      <td>2021</td>\n    </tr>\n    <tr>\n      <th>2000</th>\n      <td>184693</td>\n      <td>able</td>\n      <td>solo</td>\n      <td>47</td>\n      <td>USA</td>\n      <td>2000</td>\n      <td>M</td>\n      <td>rower</td>\n      <td>1951</td>\n      <td>419.0</td>\n      <td>Yes</td>\n      <td>H</td>\n      <td>39890613</td>\n      <td>2020</td>\n    </tr>\n    <tr>\n      <th>10000</th>\n      <td>109548</td>\n      <td>able</td>\n      <td>solo</td>\n      <td>49</td>\n      <td>USA</td>\n      <td>10000</td>\n      <td>M</td>\n      <td>rower</td>\n      <td>8814</td>\n      <td>2771.7</td>\n      <td>No</td>\n      <td>H</td>\n      <td>52339736</td>\n      <td>2021</td>\n    </tr>\n    <tr>\n      <th rowspan=\"2\" valign=\"top\">1283224</th>\n      <th>1</th>\n      <td>5333</td>\n      <td>able</td>\n      <td>FitWaco</td>\n      <td>25</td>\n      <td>USA</td>\n      <td>309</td>\n      <td>F</td>\n      <td>rower</td>\n      <td>74</td>\n      <td>60.0</td>\n      <td>No</td>\n      <td>H</td>\n      <td>44843347</td>\n      <td>2021</td>\n    </tr>\n    <tr>\n      <th>100</th>\n      <td>30915</td>\n      <td>able</td>\n      <td>FitWaco</td>\n      <td>25</td>\n      <td>USA</td>\n      <td>100</td>\n      <td>F</td>\n      <td>rower</td>\n      <td>73</td>\n      <td>18.4</td>\n      <td>Yes</td>\n      <td>H</td>\n      <td>49800364</td>\n      <td>2021</td>\n    </tr>\n    <tr>\n      <th>...</th>\n      <th>...</th>\n      <td>...</td>\n      <td>...</td>\n      <td>...</td>\n      <td>...</td>\n      <td>...</td>\n      <td>...</td>\n      <td>...</td>\n      <td>...</td>\n      <td>...</td>\n      <td>...</td>\n      <td>...</td>\n      <td>...</td>\n      <td>...</td>\n      <td>...</td>\n    </tr>\n    <tr>\n      <th>1472269</th>\n      <th>5000</th>\n      <td>84000</td>\n      <td>able</td>\n      <td>solo</td>\n      <td>46</td>\n      <td>GBR</td>\n      <td>5000</td>\n      <td>M</td>\n      <td>rower</td>\n      <td>9761</td>\n      <td>1304.7</td>\n      <td>Yes</td>\n      <td>H</td>\n      <td>52488223</td>\n      <td>2021</td>\n    </tr>\n    <tr>\n      <th>1472309</th>\n      <th>1000</th>\n      <td>49822</td>\n      <td>able</td>\n      <td>solo</td>\n      <td>17</td>\n      <td>FIN</td>\n      <td>1000</td>\n      <td>F</td>\n      <td>rower</td>\n      <td>266</td>\n      <td>230.4</td>\n      <td>Yes</td>\n      <td>H</td>\n      <td>52492183</td>\n      <td>2021</td>\n    </tr>\n    <tr>\n      <th>1472313</th>\n      <th>1000</th>\n      <td>42887</td>\n      <td>able</td>\n      <td>solo</td>\n      <td>22</td>\n      <td>URU</td>\n      <td>1000</td>\n      <td>M</td>\n      <td>rower</td>\n      <td>45</td>\n      <td>177.0</td>\n      <td>Yes</td>\n      <td>H</td>\n      <td>52491233</td>\n      <td>2021</td>\n    </tr>\n    <tr>\n      <th>1472423</th>\n      <th>10000</th>\n      <td>112855</td>\n      <td>able</td>\n      <td>solo</td>\n      <td>38</td>\n      <td>CAN</td>\n      <td>10000</td>\n      <td>F</td>\n      <td>rower</td>\n      <td>1282</td>\n      <td>3202.8</td>\n      <td>Yes</td>\n      <td>H</td>\n      <td>52497877</td>\n      <td>2021</td>\n    </tr>\n    <tr>\n      <th>1472433</th>\n      <th>10000</th>\n      <td>106963</td>\n      <td>able</td>\n      <td>solo</td>\n      <td>43</td>\n      <td>EST</td>\n      <td>10000</td>\n      <td>M</td>\n      <td>rower</td>\n      <td>6227</td>\n      <td>2571.6</td>\n      <td>Yes</td>\n      <td>H</td>\n      <td>52499015</td>\n      <td>2021</td>\n    </tr>\n  </tbody>\n</table>\n<p>90871 rows × 14 columns</p>\n</div>"
     },
     "metadata": {},
     "execution_count": 17
    }
   ],
   "source": [
    "df_workouts_grouped = pp.df_workouts[:100000].groupby(by=[\"profile_id\",\"event\"])\n",
    "df_workouts_grouped.first()"
   ]
  },
  {
   "cell_type": "code",
   "execution_count": 18,
   "metadata": {},
   "outputs": [
    {
     "output_type": "execute_result",
     "data": {
      "text/plain": [
       "1    82160\n",
       "2     8350\n",
       "3      306\n",
       "4       53\n",
       "5        2\n",
       "dtype: int64"
      ]
     },
     "metadata": {},
     "execution_count": 18
    }
   ],
   "source": [
    "df_workouts_grouped.size().sort_values(ascending=False).value_counts()"
   ]
  },
  {
   "cell_type": "code",
   "execution_count": null,
   "metadata": {},
   "outputs": [],
   "source": []
  }
 ]
}